{
 "cells": [
  {
   "cell_type": "markdown",
   "metadata": {},
   "source": [
    "<h1 style=\"color:DodgerBlue\">Индивидальный проект</h1>"
   ]
  },
  {
   "cell_type": "markdown",
   "metadata": {},
   "source": [
    "<h2 style=\"color:DodgerBlue\">Название проекта:</h2>\n",
    "\n",
    "----\n",
    "\n",
    "### Вариант задания \n"
   ]
  },
  {
   "cell_type": "markdown",
   "metadata": {},
   "source": [
    "<h2 style=\"color:DodgerBlue\">Описание проекта:</h2>\n",
    "\n",
    "----\n",
    "\n",
    "[ваш текст]\n",
    "\n",
    "#### Дополнительное задание\n",
    "Добавьте к сущестующим классам конструктора классов с использованием гетторов и сетторов и реализуйте взаимодействие объектов между собой"
   ]
  },
  {
   "cell_type": "markdown",
   "metadata": {},
   "source": [
    "<h2 style=\"color:DodgerBlue\">Реализация:</h2>\n",
    "\n",
    "----"
   ]
  },
  {
   "cell_type": "code",
   "execution_count": 1,
   "metadata": {
    "dotnet_interactive": {
     "language": "csharp"
    },
    "polyglot_notebook": {
     "kernelName": "csharp"
    }
   },
   "outputs": [
    {
     "name": "stdout",
     "output_type": "stream",
     "text": [
      "ID отзыва: 1, Текст отзыва: Очень понравилось, Рейтинг: 5\n",
      "Присвоение рейтинга 5 продукту. Дата посещения: 13.09.2024 15:37.\n",
      "Получение деталей отзыва 1.\n",
      "\n",
      "ID отзыва: 2, Текст отзыва: Средне, Рейтинг: 3\n",
      "Присвоение рейтинга 3 продукту.  ID продукта: 571934.\n",
      "Получение деталей отзыва 2.\n",
      "\n",
      "ID отзыва: 3, Текст отзыва: Ужасно, Рейтинг: 1\n",
      "Присвоение рейтинга 1 продукту.\n",
      "Получение деталей отзыва 3. Время начала услуги: 11:53.\n",
      "\n",
      "Всего отзывов: 3\n"
     ]
    }
   ],
   "source": [
    "public abstract class Review\n",
    "{\n",
    "    public int ReviewId { get; set; }\n",
    "    public string Text { get; set; }\n",
    "    public int Rating { get; set; }\n",
    "\n",
    "    public static int TotalReview { get; private set; } = 0;\n",
    "\n",
    "    public Review(int reviewId, string text, int rating)\n",
    "    {\n",
    "        ReviewId = reviewId;\n",
    "        Text = text;\n",
    "        Rating = rating;\n",
    "        TotalReview++;\n",
    "    }\n",
    "\n",
    "    public virtual string DisplayReview()\n",
    "    {\n",
    "        return $\"ID отзыва: {ReviewId}, Текст отзыва: {Text}, Рейтинг: {Rating}\";\n",
    "    }\n",
    "\n",
    "    public virtual string RateProduct()\n",
    "    {\n",
    "        return $\"Присвоение рейтинга {Rating} продукту.\";\n",
    "    }\n",
    "\n",
    "    public virtual string GetReviewDetails()\n",
    "    {\n",
    "        return ($\"Получение деталей отзыва {ReviewId}.\");\n",
    "    }\n",
    "}\n",
    "\n",
    "public class ServiceReview : Review\n",
    "{\n",
    "    public string VisitDate { get; set; }\n",
    "\n",
    "    public ServiceReview(int reviewId, string text, int rating, string visitDate)\n",
    "        : base(reviewId, text, rating)\n",
    "    {\n",
    "        VisitDate = visitDate;\n",
    "    }\n",
    "\n",
    "    public override string RateProduct()\n",
    "    {\n",
    "        return $\"{base.RateProduct()} Дата посещения: {VisitDate}.\";\n",
    "    }\n",
    "}\n",
    "\n",
    "public class ProductReview : Review\n",
    "{\n",
    "    public int ProductId { get; set; }\n",
    "\n",
    "    public ProductReview(int reviewId, string text, int rating, int productId)\n",
    "        : base(reviewId, text, rating)\n",
    "    {\n",
    "        ProductId = productId;\n",
    "    }\n",
    "\n",
    "    public override string RateProduct()\n",
    "    {\n",
    "        return ($\"{base.RateProduct()}  ID продукта: {ProductId}.\");\n",
    "    }\n",
    "}\n",
    "\n",
    "public class ServiceReview2 : Review\n",
    "{\n",
    "    public string StartTime { get; set; }\n",
    "\n",
    "    public ServiceReview2(int reviewId, string text, int rating, string startTime)\n",
    "        : base(reviewId, text, rating)\n",
    "    {\n",
    "        StartTime = startTime;\n",
    "    }\n",
    "\n",
    "    public override string GetReviewDetails()\n",
    "    {\n",
    "        return $\"{base.GetReviewDetails()} Время начала услуги: {StartTime}.\";\n",
    "    }\n",
    "}\n",
    "\n",
    "Review serviceReview = new ServiceReview(1, \"Очень понравилось\", 5, \"13.09.2024 15:37\");\n",
    "Review productReview = new ProductReview(2, \"Средне\", 3, 571934);\n",
    "Review serviceReview2 = new ServiceReview2(3, \"Ужасно\", 1, \"11:53\");\n",
    "\n",
    "Console.WriteLine(serviceReview.DisplayReview());\n",
    "Console.WriteLine(serviceReview.RateProduct());\n",
    "Console.WriteLine(serviceReview.GetReviewDetails());\n",
    "\n",
    "Console.WriteLine();\n",
    "\n",
    "Console.WriteLine(productReview.DisplayReview());\n",
    "Console.WriteLine(productReview.RateProduct());\n",
    "Console.WriteLine(productReview.GetReviewDetails());\n",
    "\n",
    "Console.WriteLine();\n",
    "\n",
    "Console.WriteLine(serviceReview2.DisplayReview());\n",
    "Console.WriteLine(serviceReview2.RateProduct());\n",
    "Console.WriteLine(serviceReview2.GetReviewDetails());\n",
    "\n",
    "Console.WriteLine();\n",
    "\n",
    "Console.WriteLine($\"Всего отзывов: {Review.TotalReview}\");"
   ]
  }
 ],
 "metadata": {
  "kernelspec": {
   "display_name": ".NET (C#)",
   "language": "C#",
   "name": ".net-csharp"
  },
  "polyglot_notebook": {
   "kernelInfo": {
    "defaultKernelName": "csharp",
    "items": [
     {
      "aliases": [],
      "languageName": "csharp",
      "name": "csharp"
     }
    ]
   }
  }
 },
 "nbformat": 4,
 "nbformat_minor": 2
}
