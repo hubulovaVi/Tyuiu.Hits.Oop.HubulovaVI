{
 "cells": [
  {
   "cell_type": "markdown",
   "metadata": {},
   "source": [
    "<h1 style=\"color:DodgerBlue\">Generic классы в C#</h1>\n"
   ]
  },
  {
   "cell_type": "markdown",
   "metadata": {},
   "source": [
    "Генерические классы в C# представляют собой шаблон класса, который может работать с различными типами данных без потери производительности. Они позволяют создавать компоненты, которые могут быть безопасно повторно использованы в различных контекстах, обеспечивая при этом строгую типизацию и избегая необходимости приведения типов.\n",
    "\n",
    "#### Основные преимущества генерических классов:\n",
    "\n",
    "1. **Безопасность типов**: Генерические классы обеспечивают проверку типов на этапе компиляции, что помогает предотвратить ошибки во время выполнения.\n",
    "2. **Универсальность**: Генерические классы могут работать с различными типами данных, делая их очень гибкими и универсальными.\n",
    "3. **Производительность**: Генерические классы не приводят к значительной потере производительности, поскольку информация о типе хранится вместе с объектом.\n",
    "\n",
    "#### Пример с классами `Vehicle`, `Car` и `Motorcycle`\n",
    "\n",
    "Давайте рассмотрим пример генерического класса `VehicleCollection<T>`, который может хранить коллекцию объектов типа `T`, где `T` может быть любой строкой, например, `Vehicle`, `Car` или `Motorcycle`.\n",
    "\n",
    "```csharp\n",
    "using System;\n",
    "using System.Collections.Generic;\n",
    "\n",
    "// Определение базового класса Vehicle\n",
    "public class Vehicle\n",
    "{\n",
    "    public virtual void Drive()\n",
    "    {\n",
    "        Console.WriteLine(\"Транспортное средство находится в движении.\");\n",
    "    }\n",
    "}\n",
    "\n",
    "// Определение производного класса Car\n",
    "public class Car : Vehicle\n",
    "{\n",
    "    public override void Drive()\n",
    "    {\n",
    "        Console.WriteLine(\"Машина едет.\");\n",
    "    }\n",
    "}\n",
    "\n",
    "// Определение производного класса Motorcycle\n",
    "public class Motorcycle : Vehicle\n",
    "{\n",
    "    public override void Drive()\n",
    "    {\n",
    "        Console.WriteLine(\"Мотоцикл едет.\");\n",
    "    }\n",
    "}\n",
    "\n",
    "// Определение генерического класса VehicleCollection<T>\n",
    "public class VehicleCollection<T> where T : Vehicle\n",
    "{\n",
    "    private List<T> _vehicles = new List<T>();\n",
    "\n",
    "    public void Add(T vehicle)\n",
    "    {\n",
    "        _vehicles.Add(vehicle);\n",
    "    }\n",
    "\n",
    "    public void Remove(T vehicle)\n",
    "    {\n",
    "        _vehicles.Remove(vehicle);\n",
    "    }\n",
    "\n",
    "    public void DisplayVehicles()\n",
    "    {\n",
    "        foreach (var vehicle in _vehicles)\n",
    "        {\n",
    "            vehicle.Drive(); // Вызов метода Drive() для каждого транспортного средства\n",
    "        }\n",
    "    }\n",
    "}\n",
    "\n",
    "\n",
    "VehicleCollection<Car> cars = new VehicleCollection<Car>();\n",
    "cars.Add(new Car());\n",
    "cars.Add(new Motorcycle()); // Это возможно благодаря ограничению \"where T : Vehicle\"\n",
    "\n",
    "cars.DisplayVehicles(); // Выводит: \"Машина едет.\" и \"Мотоцикл едет.\"\n",
    "\n",
    "\n",
    "```\n",
    "\n",
    "В этом примере `VehicleCollection<T>` является генерическим классом, который может хранить коллекцию объектов типа `T`, где `T` должен быть подклассом `Vehicle`. Это позволяет создавать коллекции автомобилей, мотоциклов и других видов транспортных средств, обеспечивая при этом строгую типизацию и безопасность типов.\n",
    "\n",
    "### Заключение\n",
    "\n",
    "Генерические классы в C# предоставляют мощный и гибкий способ создания компонентов, которые могут работать с различными типами данных, обеспечивая при этом строгую типизацию и безопасность типов. Это делает их идеальным выбором для многих задач, требующих повторного использования кода с высокой степенью абстракции."
   ]
  },
  {
   "cell_type": "markdown",
   "metadata": {},
   "source": [
    "<h4 style=\"color:DodgerBlue\">Для проверки напишите пример кода на основе классов Vehicle, Car и Motorcycle ниже в блоке:</h4>\n",
    "\n",
    "----"
   ]
  },
  {
   "cell_type": "code",
   "execution_count": null,
   "metadata": {
    "dotnet_interactive": {
     "language": "csharp"
    },
    "polyglot_notebook": {
     "kernelName": "csharp"
    }
   },
   "outputs": [
    {
     "name": "stdout",
     "output_type": "stream",
     "text": [
      "Toyota Camry, год выпуска: 2020, характеристика: седан\n",
      "Автомобиль едет\n",
      "Harley-Davidson, год выпуска: 2019, характеристика: 1200\n",
      "Мотоцикл едет\n"
     ]
    }
   ],
   "source": [
    "using System;\n",
    "\n",
    "public class Vehicle<T>\n",
    "{\n",
    "    private string model;\n",
    "    private int year;\n",
    "    private T characteristic;\n",
    "\n",
    "    public Vehicle(string model, int year, T characteristic)\n",
    "    {\n",
    "        this.model = model;\n",
    "        this.year = year;\n",
    "        this.characteristic = characteristic;\n",
    "    }\n",
    "\n",
    "    public virtual string Drive()\n",
    "    {\n",
    "        return \"Транспортное средство движется\";\n",
    "    }\n",
    "\n",
    "    public virtual string Info()\n",
    "    {\n",
    "        return $\"{model}, год выпуска: {year}, характеристика: {characteristic}\";\n",
    "    }\n",
    "}\n",
    "\n",
    "public class Car : Vehicle<string>\n",
    "{\n",
    "    public Car(string model, int year, string bodyType) : base(model, year, bodyType) {}\n",
    "\n",
    "    public override string Drive()\n",
    "    {\n",
    "        return \"Автомобиль едет\";\n",
    "    }\n",
    "}\n",
    "\n",
    "public class Motorcycle : Vehicle<int>\n",
    "{\n",
    "    public Motorcycle(string model, int year, int engineCapacity) : base(model, year, engineCapacity) {}\n",
    "\n",
    "    public override string Drive()\n",
    "    {\n",
    "        return \"Мотоцикл едет\";\n",
    "    }\n",
    "}\n",
    "\n",
    "Vehicle<string> car = new Car(\"Toyota Camry\", 2020, \"седан\");\n",
    "Vehicle<int> motorcycle = new Motorcycle(\"Harley-Davidson\", 2019, 1200);\n",
    "\n",
    "Console.WriteLine(car.Info());\n",
    "Console.WriteLine(car.Drive());\n",
    "\n",
    "Console.WriteLine(motorcycle.Info());\n",
    "Console.WriteLine(motorcycle.Drive());"
   ]
  },
  {
   "cell_type": "markdown",
   "metadata": {},
   "source": [
    "<h4 style=\"color:Red\">Задание:</h4>\n",
    "\n",
    "----\n",
    "\n",
    "Ниже в блоке по примеру создайте базовый класс Animal и производные классы (3-4 например Dog, Cat, Bird и так далее) реализуйте структуру и объявление класса, включая свойства, геттеры и сеттеры, а также с пременением Generic классов."
   ]
  },
  {
   "cell_type": "code",
   "execution_count": null,
   "metadata": {
    "dotnet_interactive": {
     "language": "csharp"
    },
    "polyglot_notebook": {
     "kernelName": "csharp"
    }
   },
   "outputs": [
    {
     "name": "stdout",
     "output_type": "stream",
     "text": [
      "Бобик, возраст: 3 лет, характеристика: овчарка\n",
      "Гав!\n",
      "Мурка, возраст: 2 лет, характеристика: True\n",
      "Мяу!\n",
      "Кеша, возраст: 1 лет, характеристика: 30\n",
      "Чирик!\n"
     ]
    }
   ],
   "source": [
    "using System;\n",
    "\n",
    "public class Animal<T>\n",
    "{\n",
    "    private string name;\n",
    "    private int age;\n",
    "    private T characteristic;\n",
    "\n",
    "    public Animal(string name, int age, T characteristic)\n",
    "    {\n",
    "        this.name = name;\n",
    "        this.age = age;\n",
    "        this.characteristic = characteristic;\n",
    "    }\n",
    "\n",
    "    public virtual string MakeSound()\n",
    "    {\n",
    "        return \"Животное издает звук\";\n",
    "    }\n",
    "\n",
    "    public virtual string Info()\n",
    "    {\n",
    "        return $\"{name}, возраст: {age} лет, характеристика: {characteristic}\";\n",
    "    }\n",
    "}\n",
    "\n",
    "public class Dog : Animal<string>\n",
    "{\n",
    "    public Dog(string name, int age, string breed) : base(name, age, breed) {}\n",
    "\n",
    "    public override string MakeSound()\n",
    "    {\n",
    "        return \"Гав!\";\n",
    "    }\n",
    "}\n",
    "\n",
    "public class Cat : Animal<bool>\n",
    "{\n",
    "    public Cat(string name, int age, bool likesToPurr) : base(name, age, likesToPurr) {}\n",
    "\n",
    "    public override string MakeSound()\n",
    "    {\n",
    "        return \"Мяу!\";\n",
    "    }\n",
    "}\n",
    "\n",
    "public class Bird : Animal<int>\n",
    "{\n",
    "    public Bird(string name, int age, int wingSpan) : base(name, age, wingSpan) {}\n",
    "\n",
    "    public override string MakeSound()\n",
    "    {\n",
    "        return \"Чирик!\";\n",
    "    }\n",
    "}\n",
    "\n",
    "Animal<string> dog = new Dog(\"Бобик\", 3, \"овчарка\");\n",
    "Animal<bool> cat = new Cat(\"Мурка\", 2, true);\n",
    "Animal<int> bird = new Bird(\"Кеша\", 1, 30);\n",
    "\n",
    "Console.WriteLine(dog.Info());\n",
    "Console.WriteLine(dog.MakeSound());\n",
    "\n",
    "Console.WriteLine(cat.Info());\n",
    "Console.WriteLine(cat.MakeSound());\n",
    "\n",
    "Console.WriteLine(bird.Info());\n",
    "Console.WriteLine(bird.MakeSound());"
   ]
  }
 ],
 "metadata": {
  "kernelspec": {
   "display_name": ".NET (C#)",
   "language": "C#",
   "name": ".net-csharp"
  },
  "polyglot_notebook": {
   "kernelInfo": {
    "defaultKernelName": "csharp",
    "items": [
     {
      "aliases": [],
      "languageName": "csharp",
      "name": "csharp"
     }
    ]
   }
  }
 },
 "nbformat": 4,
 "nbformat_minor": 2
}
