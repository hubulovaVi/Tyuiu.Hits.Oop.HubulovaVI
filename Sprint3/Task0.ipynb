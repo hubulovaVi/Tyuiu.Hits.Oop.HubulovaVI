{
 "cells": [
  {
   "cell_type": "markdown",
   "metadata": {},
   "source": [
    "<h1 style=\"color:DodgerBlue\">Понятие полиморфизма</h1>\n",
    "\n",
    "### Понятие полиморфизма в C# с параметрами\n",
    "\n",
    "Полиморфизм в объектно-ориентированном программировании позволяет объектам разных классов обрабатывать одни и те же сообщения по-разному. В C#, полиморфизм часто реализуется через наследование и переопределение методов. Давайте рассмотрим пример с классами `Vehicle`, `Car` и `Motorcycle`, чтобы продемонстрировать, как полиморфизм работает с параметрами.\n",
    "\n",
    "#### Определение классов\n",
    "\n",
    "Сначала определим базовый класс `Vehicle` с виртуальным методом `Drive()`, который принимает параметры. Затем создадим два производных класса: `Car` и `Motorcycle`, которые переопределят этот метод.\n",
    "\n",
    "```csharp\n",
    "// Базовый класс Vehicle с виртуальным методом Drive(), принимающим параметры\n",
    "public class Vehicle\n",
    "{\n",
    "    public virtual void Drive(int speed)\n",
    "    {\n",
    "        Console.WriteLine($\"Транспорт движется {speed} km/h.\");\n",
    "    }\n",
    "}\n",
    "\n",
    "// Производный класс Car, переопределяющий метод Drive()\n",
    "public class Car : Vehicle\n",
    "{\n",
    "    public override void Drive(int speed)\n",
    "    {\n",
    "        Console.WriteLine($\"Автомобиль движется {speed} km/h.\");\n",
    "    }\n",
    "}\n",
    "\n",
    "// Производный класс Motorcycle, также переопределяющий метод Drive()\n",
    "public class Motorcycle : Vehicle\n",
    "{\n",
    "    public override void Drive(int speed)\n",
    "    {\n",
    "        Console.WriteLine($\"Мотоцикл движется {speed} km/h.\");\n",
    "    }\n",
    "}\n",
    "```\n",
    "\n",
    "#### Использование полиморфизма\n",
    "\n",
    "Теперь создадим список объектов типа `Vehicle` и добавим в него экземпляры `Car` и `Motorcycle`. Затем вызовем метод `Drive()` для каждого элемента списка, передавая разные скорости. Это демонстрирует, как полиморфизм позволяет нам работать с объектами разных типов через общий интерфейс, но при этом выполнять различные действия в зависимости от \"реального\" типа объекта.\n",
    "\n",
    "```csharp\n",
    "List<Vehicle> vehicles = new List<Vehicle>\n",
    "{\n",
    "    new Car(),\n",
    "    new Motorcycle(),\n",
    "    new Vehicle() // Добавляем экземпляр базового класса для демонстрации\n",
    "};\n",
    "\n",
    "foreach (var vehicle in vehicles)\n",
    "{\n",
    "    vehicle.Drive(100); // Вызываем метод Drive() \n",
    "}\n",
    "\n",
    "```\n",
    "\n",
    "В результате выполнения этого кода, каждый объект в списке вызывает свою версию метода `Drive()`, демонстрируя, что при работе с объектами через базовый класс (`Vehicle`) можно достичь различных действий в зависимости от \"реального\" типа объекта, даже когда используются разные скорости.\n",
    "\n",
    "Этот пример иллюстрирует ключевое понятие полиморфизма в ООП: возможность работы с объектами разных типов через общий интерфейс или базовый класс, что позволяет писать более гибкий и расширяемый код."
   ]
  },
  {
   "cell_type": "markdown",
   "metadata": {},
   "source": [
    "<h4 style=\"color:DodgerBlue\">Для проверки напишите пример кода на основе классов Vehicle, Car и Motorcycle ниже в блоке:</h4>\n",
    "\n",
    "----"
   ]
  },
  {
   "cell_type": "code",
   "execution_count": null,
   "metadata": {
    "dotnet_interactive": {
     "language": "csharp"
    },
    "polyglot_notebook": {
     "kernelName": "csharp"
    }
   },
   "outputs": [
    {
     "name": "stdout",
     "output_type": "stream",
     "text": [
      "Камри, 2020 год выпуска\n",
      "Машина едет\n",
      "Сузуки, 2019 год выпуска\n",
      "Мотоцикл едет\n"
     ]
    }
   ],
   "source": [
    "public class Vehicle\n",
    "{\n",
    "    private string model {get; set;}\n",
    "    private int year {get; set;}\n",
    "\n",
    "    public Vehicle(string model, int year)\n",
    "    {\n",
    "        this.model = model;\n",
    "        this.year = year;\n",
    "    }\n",
    "\n",
    "    public virtual string Drive()\n",
    "    {\n",
    "        return \"Транспорт движется\";\n",
    "    }\n",
    "\n",
    "    public virtual string Info()\n",
    "    {\n",
    "        return $\"{model}, {year} год выпуска\";\n",
    "    }\n",
    "}\n",
    "\n",
    "public class Car : Vehicle\n",
    "{\n",
    "    public Car(string model, int year) : base(model, year) {}\n",
    "\n",
    "    public override string Drive()\n",
    "    {\n",
    "        return \"Машина едет\";\n",
    "    }\n",
    "}\n",
    "\n",
    "public class Motorcycle : Vehicle\n",
    "{\n",
    "    public Motorcycle(string model, int year) : base(model, year) {}\n",
    "\n",
    "    public override string Drive()\n",
    "    {\n",
    "        return \"Мотоцикл едет\";\n",
    "    }\n",
    "}\n",
    "\n",
    "Vehicle car = new Car(\"Камри\", 2020);\n",
    "Vehicle motorcycle = new Motorcycle(\"Сузуки\", 2019);\n",
    "\n",
    "Console.WriteLine(car.Info());\n",
    "Console.WriteLine(car.Drive());\n",
    "\n",
    "Console.WriteLine(motorcycle.Info());\n",
    "Console.WriteLine(motorcycle.Drive());"
   ]
  },
  {
   "cell_type": "markdown",
   "metadata": {},
   "source": [
    "<h4 style=\"color:Red\">Задание:</h4>\n",
    "\n",
    "----\n",
    "\n",
    "Ниже в блоке по примеру создайте базовый класс Animal и производные классы (3-4 например Dog, Cat, Bird и так далее) реализуйте структуру и объявление класса, включая свойства, геттеры и сеттеры, а также механизм полиморфизм."
   ]
  },
  {
   "cell_type": "code",
   "execution_count": null,
   "metadata": {
    "dotnet_interactive": {
     "language": "csharp"
    },
    "polyglot_notebook": {
     "kernelName": "csharp"
    }
   },
   "outputs": [
    {
     "name": "stdout",
     "output_type": "stream",
     "text": [
      "Арчи 3 лет.\n",
      "Гав!\n",
      "Мася 2 лет.\n",
      "Мяу!\n",
      "Андрей 1 лет.\n",
      "Чирик!\n"
     ]
    }
   ],
   "source": [
    "public class Animal\n",
    "{\n",
    "    private string name {get; set;}\n",
    "    private int age {get; set;}\n",
    "\n",
    "    public Animal(string name, int age)\n",
    "    {\n",
    "        this.name = name;\n",
    "        this.age = age;\n",
    "    }\n",
    "\n",
    "    public virtual string MakeSound()\n",
    "    {\n",
    "        return \"Какой-то общий животный звук\";\n",
    "    }\n",
    "\n",
    "    public virtual string Info()\n",
    "    {\n",
    "        return $\"{name} {age} лет.\";\n",
    "    }\n",
    "}\n",
    "\n",
    "public class Dog : Animal\n",
    "{\n",
    "    public Dog(string name, int age) : base(name, age) {}\n",
    "\n",
    "    public override string MakeSound()\n",
    "    {\n",
    "        return \"Гав!\";\n",
    "    }\n",
    "}\n",
    "\n",
    "public class Cat : Animal\n",
    "{\n",
    "    public Cat(string name, int age) : base(name, age) {}\n",
    "\n",
    "    public override string MakeSound()\n",
    "    {\n",
    "        return \"Мяу!\";\n",
    "    }\n",
    "}\n",
    "\n",
    "public class Bird : Animal\n",
    "{\n",
    "    public Bird(string name, int age) : base(name, age) {}\n",
    "\n",
    "    public override string MakeSound()\n",
    "    {\n",
    "        return \"Чирик!\";\n",
    "    }\n",
    "}\n",
    "\n",
    "\n",
    "Animal dog = new Dog(\"Арчи\", 3);\n",
    "Animal cat = new Cat(\"Мася\", 2);\n",
    "Animal bird = new Bird(\"Андрей\", 1);\n",
    "\n",
    "Console.WriteLine(dog.Info());        \n",
    "Console.WriteLine(dog.MakeSound());   \n",
    "\n",
    "Console.WriteLine(cat.Info());        \n",
    "Console.WriteLine(cat.MakeSound());   \n",
    "\n",
    "Console.WriteLine(bird.Info());        \n",
    "Console.WriteLine(bird.MakeSound());"
   ]
  }
 ],
 "metadata": {
  "kernelspec": {
   "display_name": ".NET (C#)",
   "language": "C#",
   "name": ".net-csharp"
  },
  "polyglot_notebook": {
   "kernelInfo": {
    "defaultKernelName": "csharp",
    "items": [
     {
      "aliases": [],
      "languageName": "csharp",
      "name": "csharp"
     }
    ]
   }
  }
 },
 "nbformat": 4,
 "nbformat_minor": 2
}
